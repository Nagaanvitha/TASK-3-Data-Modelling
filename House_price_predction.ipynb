{
  "metadata": {
    "kernelspec": {
      "language": "python",
      "display_name": "Python 3",
      "name": "python3"
    },
    "language_info": {
      "name": "python",
      "version": "3.10.13",
      "mimetype": "text/x-python",
      "codemirror_mode": {
        "name": "ipython",
        "version": 3
      },
      "pygments_lexer": "ipython3",
      "nbconvert_exporter": "python",
      "file_extension": ".py"
    },
    "kaggle": {
      "accelerator": "none",
      "dataSources": [
        {
          "sourceId": 6092787,
          "sourceType": "datasetVersion",
          "datasetId": 3489360
        }
      ],
      "dockerImageVersionId": 30664,
      "isInternetEnabled": true,
      "language": "python",
      "sourceType": "notebook",
      "isGpuEnabled": false
    },
    "colab": {
      "provenance": []
    }
  },
  "nbformat_minor": 0,
  "nbformat": 4,
  "cells": [
    {
      "source": [
        "# IMPORTANT: RUN THIS CELL IN ORDER TO IMPORT YOUR KAGGLE DATA SOURCES,\n",
        "# THEN FEEL FREE TO DELETE THIS CELL.\n",
        "# NOTE: THIS NOTEBOOK ENVIRONMENT DIFFERS FROM KAGGLE'S PYTHON\n",
        "# ENVIRONMENT SO THERE MAY BE MISSING LIBRARIES USED BY YOUR\n",
        "# NOTEBOOK.\n",
        "import kagglehub\n",
        "harishkumardatalab_housing_price_prediction_path = kagglehub.dataset_download('harishkumardatalab/housing-price-prediction')\n",
        "\n",
        "print('Data source import complete.')\n"
      ],
      "metadata": {
        "id": "UoQHryeo0cnf"
      },
      "cell_type": "code",
      "outputs": [],
      "execution_count": null
    },
    {
      "cell_type": "markdown",
      "source": [
        "# **import needed liberarirs**"
      ],
      "metadata": {
        "id": "nBq6-2qH0cnh"
      }
    },
    {
      "cell_type": "code",
      "source": [
        "import numpy as np\n",
        "import pandas as pd\n",
        "import matplotlib.pyplot as plt\n",
        "import seaborn as sns\n",
        "import warnings\n",
        "warnings.filterwarnings(\"ignore\")\n",
        "\n",
        "from sklearn.preprocessing import LabelEncoder\n",
        "from sklearn.preprocessing import StandardScaler,MinMaxScaler\n",
        "from sklearn.model_selection import train_test_split\n",
        "\n",
        "from sklearn.linear_model import LinearRegression\n",
        "from sklearn.tree import DecisionTreeRegressor\n",
        "from sklearn.ensemble import RandomForestRegressor,GradientBoostingRegressor,AdaBoostRegressor\n",
        "\n",
        "from sklearn.metrics import mean_squared_error, mean_absolute_error, r2_score,accuracy_score\n"
      ],
      "metadata": {
        "_uuid": "8f2839f25d086af736a60e9eeb907d3b93b6e0e5",
        "_cell_guid": "b1076dfc-b9ad-4769-8c92-a6c4dae69d19",
        "execution": {
          "iopub.status.busy": "2024-03-14T23:23:09.114071Z",
          "iopub.execute_input": "2024-03-14T23:23:09.11447Z",
          "iopub.status.idle": "2024-03-14T23:23:11.485639Z",
          "shell.execute_reply.started": "2024-03-14T23:23:09.114433Z",
          "shell.execute_reply": "2024-03-14T23:23:11.484425Z"
        },
        "trusted": true,
        "id": "w4YQ0xWw0cnj"
      },
      "execution_count": null,
      "outputs": []
    },
    {
      "cell_type": "markdown",
      "source": [
        "# **read data**"
      ],
      "metadata": {
        "id": "GirDHmro0cnk"
      }
    },
    {
      "cell_type": "code",
      "source": [
        "df = pd.read_csv('/kaggle/input/housing-price-prediction/Housing.csv')\n",
        "df.sample(15)"
      ],
      "metadata": {
        "execution": {
          "iopub.status.busy": "2024-03-14T23:23:18.653436Z",
          "iopub.execute_input": "2024-03-14T23:23:18.65465Z",
          "iopub.status.idle": "2024-03-14T23:23:18.735367Z",
          "shell.execute_reply.started": "2024-03-14T23:23:18.654574Z",
          "shell.execute_reply": "2024-03-14T23:23:18.73359Z"
        },
        "trusted": true,
        "id": "qhBh1sup0cnl"
      },
      "execution_count": null,
      "outputs": []
    },
    {
      "cell_type": "markdown",
      "source": [
        "# **EDA**"
      ],
      "metadata": {
        "id": "c7OSEOcx0cnm"
      }
    },
    {
      "cell_type": "code",
      "source": [
        "df.info()"
      ],
      "metadata": {
        "execution": {
          "iopub.status.busy": "2024-03-14T23:23:22.613204Z",
          "iopub.execute_input": "2024-03-14T23:23:22.613815Z",
          "iopub.status.idle": "2024-03-14T23:23:22.657684Z",
          "shell.execute_reply.started": "2024-03-14T23:23:22.613772Z",
          "shell.execute_reply": "2024-03-14T23:23:22.655371Z"
        },
        "trusted": true,
        "id": "AQELJ-3e0cnm"
      },
      "execution_count": null,
      "outputs": []
    },
    {
      "cell_type": "code",
      "source": [
        "df.describe()"
      ],
      "metadata": {
        "execution": {
          "iopub.status.busy": "2024-03-14T23:23:23.674027Z",
          "iopub.execute_input": "2024-03-14T23:23:23.674732Z",
          "iopub.status.idle": "2024-03-14T23:23:23.731015Z",
          "shell.execute_reply.started": "2024-03-14T23:23:23.674693Z",
          "shell.execute_reply": "2024-03-14T23:23:23.728797Z"
        },
        "trusted": true,
        "id": "I-pwvcPY0cnn"
      },
      "execution_count": null,
      "outputs": []
    },
    {
      "cell_type": "code",
      "source": [
        "df.isna().sum()"
      ],
      "metadata": {
        "execution": {
          "iopub.status.busy": "2024-03-14T23:23:24.556684Z",
          "iopub.execute_input": "2024-03-14T23:23:24.55734Z",
          "iopub.status.idle": "2024-03-14T23:23:24.569296Z",
          "shell.execute_reply.started": "2024-03-14T23:23:24.557301Z",
          "shell.execute_reply": "2024-03-14T23:23:24.568204Z"
        },
        "trusted": true,
        "id": "pftt6ukg0cno"
      },
      "execution_count": null,
      "outputs": []
    },
    {
      "cell_type": "code",
      "source": [
        "df.duplicated().sum()"
      ],
      "metadata": {
        "execution": {
          "iopub.status.busy": "2024-03-14T23:23:25.430801Z",
          "iopub.execute_input": "2024-03-14T23:23:25.431255Z",
          "iopub.status.idle": "2024-03-14T23:23:25.445276Z",
          "shell.execute_reply.started": "2024-03-14T23:23:25.431221Z",
          "shell.execute_reply": "2024-03-14T23:23:25.443898Z"
        },
        "trusted": true,
        "id": "IxgWEN3R0cno"
      },
      "execution_count": null,
      "outputs": []
    },
    {
      "cell_type": "markdown",
      "source": [
        "# *data visualization*"
      ],
      "metadata": {
        "id": "wGPVrZZc0cno"
      }
    },
    {
      "cell_type": "code",
      "source": [
        "bedrooms_count = df['bedrooms'].value_counts()\n",
        "bedrooms_count\n"
      ],
      "metadata": {
        "execution": {
          "iopub.status.busy": "2024-03-14T23:23:27.158501Z",
          "iopub.execute_input": "2024-03-14T23:23:27.159331Z",
          "iopub.status.idle": "2024-03-14T23:23:27.173241Z",
          "shell.execute_reply.started": "2024-03-14T23:23:27.159279Z",
          "shell.execute_reply": "2024-03-14T23:23:27.171255Z"
        },
        "trusted": true,
        "id": "PiaNWe5n0cnp"
      },
      "execution_count": null,
      "outputs": []
    },
    {
      "cell_type": "code",
      "source": [
        "plt.figure(figsize=(8,3))\n",
        "ax=sns.barplot(x=bedrooms_count.index, y=bedrooms_count.values,palette=\"rocket_r\")\n",
        "ax.bar_label(ax.containers[0], fontsize=8);\n",
        "plt.title('count of bedrooms')\n",
        "plt.xlabel('bedrooms')\n",
        "plt.ylabel('count')\n",
        "plt.show()"
      ],
      "metadata": {
        "execution": {
          "iopub.status.busy": "2024-03-14T23:23:27.80945Z",
          "iopub.execute_input": "2024-03-14T23:23:27.809965Z",
          "iopub.status.idle": "2024-03-14T23:23:28.232908Z",
          "shell.execute_reply.started": "2024-03-14T23:23:27.809929Z",
          "shell.execute_reply": "2024-03-14T23:23:28.230656Z"
        },
        "trusted": true,
        "id": "gblYUveS0cnp"
      },
      "execution_count": null,
      "outputs": []
    },
    {
      "cell_type": "code",
      "source": [
        "count_bathrooms = df['bathrooms'].value_counts()\n",
        "count_bathrooms"
      ],
      "metadata": {
        "execution": {
          "iopub.status.busy": "2024-03-14T23:23:29.639431Z",
          "iopub.execute_input": "2024-03-14T23:23:29.639985Z",
          "iopub.status.idle": "2024-03-14T23:23:29.653855Z",
          "shell.execute_reply.started": "2024-03-14T23:23:29.639951Z",
          "shell.execute_reply": "2024-03-14T23:23:29.651408Z"
        },
        "trusted": true,
        "id": "5lLKIF490cnq"
      },
      "execution_count": null,
      "outputs": []
    },
    {
      "cell_type": "code",
      "source": [
        "\n",
        "ax = sns.barplot(x=count_bathrooms.index,y=count_bathrooms.values,palette=\"mako\")\n",
        "ax.bar_label(ax.containers[0], fontsize=8);\n",
        "plt.title('count of bathrooms')\n",
        "plt.xlabel('bathrooms')\n",
        "plt.ylabel('count')\n",
        "plt.show()"
      ],
      "metadata": {
        "execution": {
          "iopub.status.busy": "2024-03-14T23:23:30.681622Z",
          "iopub.execute_input": "2024-03-14T23:23:30.682204Z",
          "iopub.status.idle": "2024-03-14T23:23:31.06437Z",
          "shell.execute_reply.started": "2024-03-14T23:23:30.682167Z",
          "shell.execute_reply": "2024-03-14T23:23:31.062808Z"
        },
        "trusted": true,
        "id": "qpWpyGD60cnq"
      },
      "execution_count": null,
      "outputs": []
    },
    {
      "cell_type": "code",
      "source": [
        "stories_count = df['stories'].value_counts()\n",
        "stories_count"
      ],
      "metadata": {
        "execution": {
          "iopub.status.busy": "2024-03-14T23:23:31.470756Z",
          "iopub.execute_input": "2024-03-14T23:23:31.471188Z",
          "iopub.status.idle": "2024-03-14T23:23:31.482751Z",
          "shell.execute_reply.started": "2024-03-14T23:23:31.471149Z",
          "shell.execute_reply": "2024-03-14T23:23:31.480977Z"
        },
        "trusted": true,
        "id": "Hl-VI4uG0cnq"
      },
      "execution_count": null,
      "outputs": []
    },
    {
      "cell_type": "code",
      "source": [
        "ax = sns.barplot(x=stories_count.index,y=stories_count.values,palette=\"magma\")\n",
        "ax.bar_label(ax.containers[0], fontsize=8)\n",
        "plt.title('count of stories')\n",
        "plt.xlabel('stories')\n",
        "plt.ylabel('count')\n",
        "plt.show()"
      ],
      "metadata": {
        "execution": {
          "iopub.status.busy": "2024-03-14T23:23:32.495562Z",
          "iopub.execute_input": "2024-03-14T23:23:32.498149Z",
          "iopub.status.idle": "2024-03-14T23:23:32.826338Z",
          "shell.execute_reply.started": "2024-03-14T23:23:32.498068Z",
          "shell.execute_reply": "2024-03-14T23:23:32.824235Z"
        },
        "trusted": true,
        "id": "lBZmaVHs0cnr"
      },
      "execution_count": null,
      "outputs": []
    },
    {
      "cell_type": "code",
      "source": [
        "count_mainroad=df['mainroad'].value_counts()\n",
        "count_mainroad"
      ],
      "metadata": {
        "execution": {
          "iopub.status.busy": "2024-03-14T23:23:33.29381Z",
          "iopub.execute_input": "2024-03-14T23:23:33.294329Z",
          "iopub.status.idle": "2024-03-14T23:23:33.306021Z",
          "shell.execute_reply.started": "2024-03-14T23:23:33.294295Z",
          "shell.execute_reply": "2024-03-14T23:23:33.304332Z"
        },
        "trusted": true,
        "id": "Ci7Go0NG0cnr"
      },
      "execution_count": null,
      "outputs": []
    },
    {
      "cell_type": "code",
      "source": [
        "explode = [0, 0.09]\n",
        "colors = sns.color_palette(\"crest\")\n",
        "plt.pie(count_mainroad.values,\n",
        "        labels=count_mainroad.index,\n",
        "        autopct='%.0f%%',explode=explode,\n",
        "        colors = colors)\n",
        "plt.title(\"count of mainroad\")\n",
        "plt.legend(loc = \"best\")\n",
        "\n",
        "plt.show()"
      ],
      "metadata": {
        "execution": {
          "iopub.status.busy": "2024-03-14T23:23:34.176319Z",
          "iopub.execute_input": "2024-03-14T23:23:34.176822Z",
          "iopub.status.idle": "2024-03-14T23:23:34.413787Z",
          "shell.execute_reply.started": "2024-03-14T23:23:34.176786Z",
          "shell.execute_reply": "2024-03-14T23:23:34.411975Z"
        },
        "trusted": true,
        "id": "IjUNXzFE0cnr"
      },
      "execution_count": null,
      "outputs": []
    },
    {
      "cell_type": "code",
      "source": [
        "guestroom_count = df['guestroom'].value_counts()\n",
        "guestroom_count"
      ],
      "metadata": {
        "execution": {
          "iopub.status.busy": "2024-03-14T23:23:35.098199Z",
          "iopub.execute_input": "2024-03-14T23:23:35.098821Z",
          "iopub.status.idle": "2024-03-14T23:23:35.112339Z",
          "shell.execute_reply.started": "2024-03-14T23:23:35.098776Z",
          "shell.execute_reply": "2024-03-14T23:23:35.110177Z"
        },
        "trusted": true,
        "id": "T715EsWZ0cnr"
      },
      "execution_count": null,
      "outputs": []
    },
    {
      "cell_type": "code",
      "source": [
        "explode = [0, 0.09]\n",
        "colors = sns.color_palette(\"crest\")\n",
        "plt.pie(guestroom_count.values,\n",
        "        labels=guestroom_count.index,\n",
        "        autopct='%.0f%%',explode=explode,\n",
        "        colors = colors)\n",
        "plt.title(\"count of guestroom\")\n",
        "plt.legend(loc = \"best\")\n",
        "\n",
        "plt.show()"
      ],
      "metadata": {
        "execution": {
          "iopub.status.busy": "2024-03-14T23:23:36.036146Z",
          "iopub.execute_input": "2024-03-14T23:23:36.037286Z",
          "iopub.status.idle": "2024-03-14T23:23:36.244173Z",
          "shell.execute_reply.started": "2024-03-14T23:23:36.037236Z",
          "shell.execute_reply": "2024-03-14T23:23:36.24244Z"
        },
        "trusted": true,
        "id": "JkjEj6PE0cns"
      },
      "execution_count": null,
      "outputs": []
    },
    {
      "cell_type": "code",
      "source": [
        "furnishingstatus_count = df.furnishingstatus.value_counts()\n",
        "furnishingstatus_count"
      ],
      "metadata": {
        "execution": {
          "iopub.status.busy": "2024-03-14T23:23:36.977703Z",
          "iopub.execute_input": "2024-03-14T23:23:36.979181Z",
          "iopub.status.idle": "2024-03-14T23:23:36.991545Z",
          "shell.execute_reply.started": "2024-03-14T23:23:36.979139Z",
          "shell.execute_reply": "2024-03-14T23:23:36.989751Z"
        },
        "trusted": true,
        "id": "5vNAj_RV0cns"
      },
      "execution_count": null,
      "outputs": []
    },
    {
      "cell_type": "code",
      "source": [
        "ax = sns.barplot(x=furnishingstatus_count.index,\n",
        "                 y=furnishingstatus_count.values,\n",
        "                 palette=\"magma\"\n",
        "\n",
        "                )\n",
        "ax.bar_label(ax.containers[0], fontsize=8)\n",
        "plt.show()"
      ],
      "metadata": {
        "execution": {
          "iopub.status.busy": "2024-03-14T23:23:38.007051Z",
          "iopub.execute_input": "2024-03-14T23:23:38.007567Z",
          "iopub.status.idle": "2024-03-14T23:23:38.260408Z",
          "shell.execute_reply.started": "2024-03-14T23:23:38.007528Z",
          "shell.execute_reply": "2024-03-14T23:23:38.258622Z"
        },
        "trusted": true,
        "id": "mtPLceZL0cns"
      },
      "execution_count": null,
      "outputs": []
    },
    {
      "cell_type": "code",
      "source": [
        "prefarea_count = df.prefarea.value_counts()\n",
        "prefarea_count"
      ],
      "metadata": {
        "execution": {
          "iopub.status.busy": "2024-03-14T23:23:39.073083Z",
          "iopub.execute_input": "2024-03-14T23:23:39.073523Z",
          "iopub.status.idle": "2024-03-14T23:23:39.086479Z",
          "shell.execute_reply.started": "2024-03-14T23:23:39.073489Z",
          "shell.execute_reply": "2024-03-14T23:23:39.083692Z"
        },
        "trusted": true,
        "id": "YV6yKU380cns"
      },
      "execution_count": null,
      "outputs": []
    },
    {
      "cell_type": "code",
      "source": [
        "explode = [0, 0.09]\n",
        "colors = sns.color_palette(\"magma\")\n",
        "plt.pie(prefarea_count.values,\n",
        "        labels=prefarea_count.index,\n",
        "        autopct='%.0f%%',explode=explode,\n",
        "        colors = colors)\n",
        "plt.title(\"count of guestroom\")\n",
        "plt.legend(loc = \"best\")\n",
        "\n",
        "plt.show()"
      ],
      "metadata": {
        "execution": {
          "iopub.status.busy": "2024-03-14T23:23:40.141013Z",
          "iopub.execute_input": "2024-03-14T23:23:40.141458Z",
          "iopub.status.idle": "2024-03-14T23:23:40.320864Z",
          "shell.execute_reply.started": "2024-03-14T23:23:40.141429Z",
          "shell.execute_reply": "2024-03-14T23:23:40.318197Z"
        },
        "trusted": true,
        "id": "BhRbVOw70cns"
      },
      "execution_count": null,
      "outputs": []
    },
    {
      "cell_type": "code",
      "source": [
        "ax = sns.countplot(df, x=\"bedrooms\", hue=\"parking\",palette=\"magma\")\n",
        "for i in range(len(df['parking'].unique())):\n",
        "    ax.bar_label(ax.containers[i], fontsize=8)\n",
        "\n",
        "\n",
        "plt.show()"
      ],
      "metadata": {
        "execution": {
          "iopub.status.busy": "2024-03-14T23:23:41.176739Z",
          "iopub.execute_input": "2024-03-14T23:23:41.177384Z",
          "iopub.status.idle": "2024-03-14T23:23:41.896909Z",
          "shell.execute_reply.started": "2024-03-14T23:23:41.177335Z",
          "shell.execute_reply": "2024-03-14T23:23:41.895301Z"
        },
        "trusted": true,
        "id": "KRV9w2720cnt"
      },
      "execution_count": null,
      "outputs": []
    },
    {
      "cell_type": "code",
      "source": [
        "ax = sns.countplot(df, x=\"bedrooms\", hue=\"bathrooms\",palette=\"mako\")\n",
        "for i in range(len(df['bathrooms'].unique())):\n",
        "    ax.bar_label(ax.containers[i], fontsize=8)\n",
        "plt.show()"
      ],
      "metadata": {
        "execution": {
          "iopub.status.busy": "2024-03-14T23:23:42.129062Z",
          "iopub.execute_input": "2024-03-14T23:23:42.129531Z",
          "iopub.status.idle": "2024-03-14T23:23:42.640162Z",
          "shell.execute_reply.started": "2024-03-14T23:23:42.129495Z",
          "shell.execute_reply": "2024-03-14T23:23:42.638601Z"
        },
        "trusted": true,
        "id": "MrN4f9Sg0cnt"
      },
      "execution_count": null,
      "outputs": []
    },
    {
      "cell_type": "code",
      "source": [
        "ax = sns.countplot(df, x=\"bedrooms\", hue=\"stories\",palette=\"mako\")\n",
        "for i in range(len(df['stories'].unique())):\n",
        "    ax.bar_label(ax.containers[i], fontsize=8)\n",
        "plt.ylabel('count of stoies')\n",
        "plt.show()"
      ],
      "metadata": {
        "execution": {
          "iopub.status.busy": "2024-03-14T23:23:43.695593Z",
          "iopub.execute_input": "2024-03-14T23:23:43.696052Z",
          "iopub.status.idle": "2024-03-14T23:23:44.246232Z",
          "shell.execute_reply.started": "2024-03-14T23:23:43.696018Z",
          "shell.execute_reply": "2024-03-14T23:23:44.244386Z"
        },
        "trusted": true,
        "id": "02x_26Hh0cnt"
      },
      "execution_count": null,
      "outputs": []
    },
    {
      "cell_type": "code",
      "source": [
        "ax = sns.countplot(df, x=\"bedrooms\", hue=\"furnishingstatus\",palette=\"viridis\")\n",
        "for i in range(len(df['furnishingstatus'].unique())):\n",
        "    ax.bar_label(ax.containers[i], fontsize=8)\n",
        "plt.ylabel('count of furnishingstatus')\n",
        "plt.show()"
      ],
      "metadata": {
        "execution": {
          "iopub.status.busy": "2024-03-14T23:23:44.877737Z",
          "iopub.execute_input": "2024-03-14T23:23:44.878293Z",
          "iopub.status.idle": "2024-03-14T23:23:45.364396Z",
          "shell.execute_reply.started": "2024-03-14T23:23:44.878251Z",
          "shell.execute_reply": "2024-03-14T23:23:45.361897Z"
        },
        "trusted": true,
        "id": "kuW4WWn30cnt"
      },
      "execution_count": null,
      "outputs": []
    },
    {
      "cell_type": "code",
      "source": [
        "ax = sns.countplot(df, x=\"parking\", hue=\"furnishingstatus\",palette=\"rocket_r\")\n",
        "for i in range(len(df['furnishingstatus'].unique())):\n",
        "    ax.bar_label(ax.containers[i], fontsize=8)\n",
        "plt.ylabel('count of furnishingstatus')\n",
        "plt.show()"
      ],
      "metadata": {
        "execution": {
          "iopub.status.busy": "2024-03-14T23:23:45.890997Z",
          "iopub.execute_input": "2024-03-14T23:23:45.891436Z",
          "iopub.status.idle": "2024-03-14T23:23:46.346669Z",
          "shell.execute_reply.started": "2024-03-14T23:23:45.891405Z",
          "shell.execute_reply": "2024-03-14T23:23:46.344953Z"
        },
        "trusted": true,
        "id": "u8Y1DVpx0cnt"
      },
      "execution_count": null,
      "outputs": []
    },
    {
      "cell_type": "code",
      "source": [
        "ax = sns.countplot(df, x=\"stories\", hue=\"furnishingstatus\",palette=\"cubehelix\")\n",
        "for i in range(len(df['furnishingstatus'].unique())):\n",
        "    ax.bar_label(ax.containers[i], fontsize=8)\n",
        "plt.ylabel('count of furnishingstatus')\n",
        "plt.show()"
      ],
      "metadata": {
        "execution": {
          "iopub.status.busy": "2024-03-14T23:23:47.323782Z",
          "iopub.execute_input": "2024-03-14T23:23:47.324387Z",
          "iopub.status.idle": "2024-03-14T23:23:47.747542Z",
          "shell.execute_reply.started": "2024-03-14T23:23:47.324349Z",
          "shell.execute_reply": "2024-03-14T23:23:47.746471Z"
        },
        "trusted": true,
        "id": "XWl-Yo_t0cnu"
      },
      "execution_count": null,
      "outputs": []
    },
    {
      "cell_type": "code",
      "source": [
        "ax = sns.countplot(df, x=\"bathrooms\", hue=\"furnishingstatus\",palette=\"rocket\")\n",
        "for i in range(len(df['furnishingstatus'].unique())):\n",
        "    ax.bar_label(ax.containers[i], fontsize=8)\n",
        "plt.ylabel('count of furnishingstatus')\n",
        "plt.show()"
      ],
      "metadata": {
        "execution": {
          "iopub.status.busy": "2024-03-14T23:23:48.687134Z",
          "iopub.execute_input": "2024-03-14T23:23:48.688611Z",
          "iopub.status.idle": "2024-03-14T23:23:49.137904Z",
          "shell.execute_reply.started": "2024-03-14T23:23:48.688551Z",
          "shell.execute_reply": "2024-03-14T23:23:49.135752Z"
        },
        "trusted": true,
        "id": "DYPp3eGE0cnu"
      },
      "execution_count": null,
      "outputs": []
    },
    {
      "cell_type": "code",
      "source": [
        "ax = sns.countplot(df, x=\"bathrooms\", hue=\"prefarea\",palette=\"crest\")\n",
        "for i in range(len(df['prefarea'].unique())):\n",
        "    ax.bar_label(ax.containers[i], fontsize=8)\n",
        "plt.ylabel('count of prefarea')\n",
        "plt.show()"
      ],
      "metadata": {
        "execution": {
          "iopub.status.busy": "2024-03-14T23:23:49.982734Z",
          "iopub.execute_input": "2024-03-14T23:23:49.983243Z",
          "iopub.status.idle": "2024-03-14T23:23:50.388288Z",
          "shell.execute_reply.started": "2024-03-14T23:23:49.983207Z",
          "shell.execute_reply": "2024-03-14T23:23:50.386123Z"
        },
        "trusted": true,
        "id": "aiSJDCh00cnu"
      },
      "execution_count": null,
      "outputs": []
    },
    {
      "cell_type": "code",
      "source": [
        "ax = sns.countplot(df, x=\"bedrooms\", hue=\"prefarea\",palette=\"cubehelix\")\n",
        "for i in range(len(df['prefarea'].unique())):\n",
        "    ax.bar_label(ax.containers[i], fontsize=8)\n",
        "plt.ylabel('count of prefarea')\n",
        "plt.show()"
      ],
      "metadata": {
        "execution": {
          "iopub.status.busy": "2024-03-14T23:23:51.191936Z",
          "iopub.execute_input": "2024-03-14T23:23:51.193291Z",
          "iopub.status.idle": "2024-03-14T23:23:51.636082Z",
          "shell.execute_reply.started": "2024-03-14T23:23:51.193234Z",
          "shell.execute_reply": "2024-03-14T23:23:51.634358Z"
        },
        "trusted": true,
        "id": "YZ-LZM7O0cnv"
      },
      "execution_count": null,
      "outputs": []
    },
    {
      "cell_type": "code",
      "source": [
        "ax = sns.countplot(df, x=\"stories\", hue=\"prefarea\",palette=\"rocket\")\n",
        "for i in range(len(df['prefarea'].unique())):\n",
        "    ax.bar_label(ax.containers[i], fontsize=8)\n",
        "plt.ylabel('count of prefarea')\n",
        "plt.show()"
      ],
      "metadata": {
        "execution": {
          "iopub.status.busy": "2024-03-14T23:23:52.365418Z",
          "iopub.execute_input": "2024-03-14T23:23:52.366201Z",
          "iopub.status.idle": "2024-03-14T23:23:52.735797Z",
          "shell.execute_reply.started": "2024-03-14T23:23:52.366161Z",
          "shell.execute_reply": "2024-03-14T23:23:52.733763Z"
        },
        "trusted": true,
        "id": "tPLthDH40cnv"
      },
      "execution_count": null,
      "outputs": []
    },
    {
      "cell_type": "code",
      "source": [
        "ax = sns.countplot(df, x=\"parking\", hue=\"prefarea\",palette=\"flare\")\n",
        "for i in range(len(df['prefarea'].unique())):\n",
        "    ax.bar_label(ax.containers[i], fontsize=8)\n",
        "plt.ylabel('count of prefarea')\n",
        "plt.show()"
      ],
      "metadata": {
        "execution": {
          "iopub.status.busy": "2024-03-14T23:23:53.433391Z",
          "iopub.execute_input": "2024-03-14T23:23:53.433961Z",
          "iopub.status.idle": "2024-03-14T23:23:53.810817Z",
          "shell.execute_reply.started": "2024-03-14T23:23:53.433913Z",
          "shell.execute_reply": "2024-03-14T23:23:53.809257Z"
        },
        "trusted": true,
        "id": "bQLZJT2y0cnv"
      },
      "execution_count": null,
      "outputs": []
    },
    {
      "cell_type": "code",
      "source": [
        "ax = sns.countplot(df, x=\"furnishingstatus\", hue=\"prefarea\",palette=\"rocket\")\n",
        "for i in range(len(df['prefarea'].unique())):\n",
        "    ax.bar_label(ax.containers[i], fontsize=8)\n",
        "plt.ylabel('count of prefarea')\n",
        "plt.legend(loc = 'best')\n",
        "plt.show()"
      ],
      "metadata": {
        "execution": {
          "iopub.status.busy": "2024-03-14T23:23:54.497609Z",
          "iopub.execute_input": "2024-03-14T23:23:54.49809Z",
          "iopub.status.idle": "2024-03-14T23:23:54.852089Z",
          "shell.execute_reply.started": "2024-03-14T23:23:54.498056Z",
          "shell.execute_reply": "2024-03-14T23:23:54.850185Z"
        },
        "trusted": true,
        "id": "_FRfLwEy0cnw"
      },
      "execution_count": null,
      "outputs": []
    },
    {
      "cell_type": "code",
      "source": [
        "ax = sns.countplot(df, x=\"bathrooms\", hue=\"hotwaterheating\",palette=\"rocket\")\n",
        "for i in range(len(df['hotwaterheating'].unique())):\n",
        "    ax.bar_label(ax.containers[i], fontsize=8)\n",
        "plt.ylabel('count of hotwaterheating')\n",
        "plt.legend(loc = 'best')\n",
        "plt.show()"
      ],
      "metadata": {
        "execution": {
          "iopub.status.busy": "2024-03-14T23:23:55.65553Z",
          "iopub.execute_input": "2024-03-14T23:23:55.656016Z",
          "iopub.status.idle": "2024-03-14T23:23:56.081032Z",
          "shell.execute_reply.started": "2024-03-14T23:23:55.655981Z",
          "shell.execute_reply": "2024-03-14T23:23:56.076792Z"
        },
        "trusted": true,
        "id": "wUXpCFjU0cnw"
      },
      "execution_count": null,
      "outputs": []
    },
    {
      "cell_type": "code",
      "source": [
        "ax = sns.countplot(df, x=\"parking\", hue=\"hotwaterheating\",palette=\"rocket\")\n",
        "for i in range(len(df['hotwaterheating'].unique())):\n",
        "    ax.bar_label(ax.containers[i], fontsize=8)\n",
        "plt.ylabel('count of hotwaterheating')\n",
        "plt.legend(loc = 'best')\n",
        "plt.show()"
      ],
      "metadata": {
        "execution": {
          "iopub.status.busy": "2024-03-14T23:23:56.710829Z",
          "iopub.execute_input": "2024-03-14T23:23:56.71186Z",
          "iopub.status.idle": "2024-03-14T23:23:57.092091Z",
          "shell.execute_reply.started": "2024-03-14T23:23:56.711803Z",
          "shell.execute_reply": "2024-03-14T23:23:57.090393Z"
        },
        "trusted": true,
        "id": "U1nTOLFt0cnw"
      },
      "execution_count": null,
      "outputs": []
    },
    {
      "cell_type": "code",
      "source": [
        "ax = sns.countplot(df, x=\"bedrooms\", hue=\"hotwaterheating\",palette=\"rocket\")\n",
        "for i in range(len(df['hotwaterheating'].unique())):\n",
        "    ax.bar_label(ax.containers[i], fontsize=8)\n",
        "plt.ylabel('count of hotwaterheating')\n",
        "plt.legend(loc = 'best')\n",
        "plt.show()"
      ],
      "metadata": {
        "execution": {
          "iopub.status.busy": "2024-03-14T23:23:58.077176Z",
          "iopub.execute_input": "2024-03-14T23:23:58.077737Z",
          "iopub.status.idle": "2024-03-14T23:23:58.481079Z",
          "shell.execute_reply.started": "2024-03-14T23:23:58.077695Z",
          "shell.execute_reply": "2024-03-14T23:23:58.479355Z"
        },
        "trusted": true,
        "id": "ILjrbKJw0cnx"
      },
      "execution_count": null,
      "outputs": []
    },
    {
      "cell_type": "code",
      "source": [
        "ax = sns.countplot(df, x=\"stories\", hue=\"hotwaterheating\",palette=\"rocket\")\n",
        "for i in range(len(df['hotwaterheating'].unique())):\n",
        "    ax.bar_label(ax.containers[i], fontsize=8)\n",
        "plt.ylabel('count of hotwaterheating')\n",
        "plt.legend(loc = 'best')\n",
        "plt.show()"
      ],
      "metadata": {
        "execution": {
          "iopub.status.busy": "2024-03-14T23:23:59.252431Z",
          "iopub.execute_input": "2024-03-14T23:23:59.252872Z",
          "iopub.status.idle": "2024-03-14T23:23:59.614432Z",
          "shell.execute_reply.started": "2024-03-14T23:23:59.252819Z",
          "shell.execute_reply": "2024-03-14T23:23:59.612961Z"
        },
        "trusted": true,
        "id": "w1BaN30w0cnx"
      },
      "execution_count": null,
      "outputs": []
    },
    {
      "cell_type": "code",
      "source": [
        "ax = sns.countplot(df, x=\"mainroad\", hue=\"hotwaterheating\",palette=\"rocket\")\n",
        "for i in range(len(df['hotwaterheating'].unique())):\n",
        "    ax.bar_label(ax.containers[i], fontsize=8)\n",
        "plt.ylabel('count of hotwaterheating')\n",
        "plt.legend(loc = 'best')\n",
        "plt.show()"
      ],
      "metadata": {
        "execution": {
          "iopub.status.busy": "2024-03-14T23:24:00.524868Z",
          "iopub.execute_input": "2024-03-14T23:24:00.525754Z",
          "iopub.status.idle": "2024-03-14T23:24:00.831218Z",
          "shell.execute_reply.started": "2024-03-14T23:24:00.525701Z",
          "shell.execute_reply": "2024-03-14T23:24:00.829053Z"
        },
        "trusted": true,
        "id": "igKppzVr0cnx"
      },
      "execution_count": null,
      "outputs": []
    },
    {
      "cell_type": "markdown",
      "source": [
        "# *data encoding*"
      ],
      "metadata": {
        "id": "2riIE7VF0cny"
      }
    },
    {
      "cell_type": "code",
      "source": [
        "encoder = LabelEncoder()"
      ],
      "metadata": {
        "execution": {
          "iopub.status.busy": "2024-03-14T23:24:02.855685Z",
          "iopub.execute_input": "2024-03-14T23:24:02.856194Z",
          "iopub.status.idle": "2024-03-14T23:24:02.864789Z",
          "shell.execute_reply.started": "2024-03-14T23:24:02.85616Z",
          "shell.execute_reply": "2024-03-14T23:24:02.862364Z"
        },
        "trusted": true,
        "id": "gAlgELGA0cny"
      },
      "execution_count": null,
      "outputs": []
    },
    {
      "cell_type": "code",
      "source": [
        "encoding_col = ['furnishingstatus','prefarea','airconditioning','hotwaterheating','basement','guestroom','mainroad']\n",
        "for col in encoding_col:\n",
        "    df[col]=encoder.fit_transform(df[col])"
      ],
      "metadata": {
        "execution": {
          "iopub.status.busy": "2024-03-14T23:24:03.872646Z",
          "iopub.execute_input": "2024-03-14T23:24:03.873088Z",
          "iopub.status.idle": "2024-03-14T23:24:03.884352Z",
          "shell.execute_reply.started": "2024-03-14T23:24:03.873056Z",
          "shell.execute_reply": "2024-03-14T23:24:03.882584Z"
        },
        "trusted": true,
        "id": "HhqPfV3V0cny"
      },
      "execution_count": null,
      "outputs": []
    },
    {
      "cell_type": "code",
      "source": [
        "df"
      ],
      "metadata": {
        "execution": {
          "iopub.status.busy": "2024-03-14T23:24:05.005745Z",
          "iopub.execute_input": "2024-03-14T23:24:05.006347Z",
          "iopub.status.idle": "2024-03-14T23:24:05.0299Z",
          "shell.execute_reply.started": "2024-03-14T23:24:05.00631Z",
          "shell.execute_reply": "2024-03-14T23:24:05.028283Z"
        },
        "trusted": true,
        "id": "eTYZFsOf0cny"
      },
      "execution_count": null,
      "outputs": []
    },
    {
      "cell_type": "code",
      "source": [
        "plt.figure(figsize=(10, 10))\n",
        "sns.heatmap(df.corr(), annot=True, fmt=\".2f\", linewidths=0.5, cbar=True)\n",
        "plt.show()"
      ],
      "metadata": {
        "execution": {
          "iopub.status.busy": "2024-03-14T23:24:06.260072Z",
          "iopub.execute_input": "2024-03-14T23:24:06.26051Z"
        },
        "trusted": true,
        "id": "W3mlFeB50cny"
      },
      "execution_count": null,
      "outputs": []
    },
    {
      "cell_type": "markdown",
      "source": [
        "# **feature and target**"
      ],
      "metadata": {
        "id": "1EdSiXZ90cnz"
      }
    },
    {
      "cell_type": "code",
      "source": [
        "x=df.drop(columns=['price'],axis = 1)\n",
        "y=df['price']"
      ],
      "metadata": {
        "execution": {
          "iopub.status.busy": "2024-03-14T23:24:08.698991Z",
          "iopub.execute_input": "2024-03-14T23:24:08.699419Z",
          "iopub.status.idle": "2024-03-14T23:24:08.707561Z",
          "shell.execute_reply.started": "2024-03-14T23:24:08.699388Z",
          "shell.execute_reply": "2024-03-14T23:24:08.705935Z"
        },
        "trusted": true,
        "id": "MavQJG6-0cnz"
      },
      "execution_count": null,
      "outputs": []
    },
    {
      "cell_type": "markdown",
      "source": [
        "# *data scaling*"
      ],
      "metadata": {
        "id": "5FrXV9Mu0cnz"
      }
    },
    {
      "cell_type": "code",
      "source": [
        "scaler = MinMaxScaler()\n",
        "x = scaler.fit_transform(x)\n",
        "y = scaler.fit_transform(y.values.reshape(-1, 1))"
      ],
      "metadata": {
        "execution": {
          "iopub.status.busy": "2024-03-14T23:24:17.621198Z",
          "iopub.execute_input": "2024-03-14T23:24:17.622017Z",
          "iopub.status.idle": "2024-03-14T23:24:17.640474Z",
          "shell.execute_reply.started": "2024-03-14T23:24:17.621963Z",
          "shell.execute_reply": "2024-03-14T23:24:17.63864Z"
        },
        "trusted": true,
        "id": "ylGDjwYL0cn0"
      },
      "execution_count": null,
      "outputs": []
    },
    {
      "cell_type": "markdown",
      "source": [
        "# *data splitting*"
      ],
      "metadata": {
        "id": "LztcZjAD0cn0"
      }
    },
    {
      "cell_type": "code",
      "source": [
        "x_train,x_test,y_train,y_test=train_test_split(x,y,test_size=0.2,random_state=50)\n"
      ],
      "metadata": {
        "execution": {
          "iopub.status.busy": "2024-03-14T23:24:25.662694Z",
          "iopub.execute_input": "2024-03-14T23:24:25.664357Z",
          "iopub.status.idle": "2024-03-14T23:24:25.673474Z",
          "shell.execute_reply.started": "2024-03-14T23:24:25.664291Z",
          "shell.execute_reply": "2024-03-14T23:24:25.671765Z"
        },
        "trusted": true,
        "id": "8qVSo3dt0cn1"
      },
      "execution_count": null,
      "outputs": []
    },
    {
      "cell_type": "markdown",
      "source": [
        "# *models*"
      ],
      "metadata": {
        "id": "W9rqtGRl0cn1"
      }
    },
    {
      "cell_type": "markdown",
      "source": [
        "*linear model*"
      ],
      "metadata": {
        "id": "SFhUiZWo0cn2"
      }
    },
    {
      "cell_type": "code",
      "source": [
        "ln_model = LinearRegression()\n",
        "ln_model.fit(x_train, y_train)"
      ],
      "metadata": {
        "execution": {
          "iopub.status.busy": "2024-03-14T23:24:30.207255Z",
          "iopub.execute_input": "2024-03-14T23:24:30.210394Z",
          "iopub.status.idle": "2024-03-14T23:24:30.270267Z",
          "shell.execute_reply.started": "2024-03-14T23:24:30.210328Z",
          "shell.execute_reply": "2024-03-14T23:24:30.26891Z"
        },
        "trusted": true,
        "id": "x4twaZWx0cn2"
      },
      "execution_count": null,
      "outputs": []
    },
    {
      "cell_type": "code",
      "source": [
        "y_pred = ln_model.predict(x_test)"
      ],
      "metadata": {
        "execution": {
          "iopub.status.busy": "2024-03-14T23:24:31.45544Z",
          "iopub.execute_input": "2024-03-14T23:24:31.457264Z",
          "iopub.status.idle": "2024-03-14T23:24:31.463889Z",
          "shell.execute_reply.started": "2024-03-14T23:24:31.457197Z",
          "shell.execute_reply": "2024-03-14T23:24:31.462536Z"
        },
        "trusted": true,
        "id": "-VUpZuT60cn2"
      },
      "execution_count": null,
      "outputs": []
    },
    {
      "cell_type": "code",
      "source": [
        "ln_acc = r2_score(y_test, y_pred)\n",
        "ln_acc"
      ],
      "metadata": {
        "execution": {
          "iopub.status.busy": "2024-03-14T23:24:33.46417Z",
          "iopub.execute_input": "2024-03-14T23:24:33.464743Z",
          "iopub.status.idle": "2024-03-14T23:24:33.477452Z",
          "shell.execute_reply.started": "2024-03-14T23:24:33.464701Z",
          "shell.execute_reply": "2024-03-14T23:24:33.475679Z"
        },
        "trusted": true,
        "id": "z5nO9nvc0cn2"
      },
      "execution_count": null,
      "outputs": []
    },
    {
      "cell_type": "markdown",
      "source": [
        "*DecisionTreeRegressor*"
      ],
      "metadata": {
        "id": "krdlsA5u0cn3"
      }
    },
    {
      "cell_type": "code",
      "source": [
        "dt_model = DecisionTreeRegressor()\n",
        "dt_model.fit(x_train, y_train)"
      ],
      "metadata": {
        "execution": {
          "iopub.status.busy": "2024-03-14T23:24:37.3917Z",
          "iopub.execute_input": "2024-03-14T23:24:37.392243Z",
          "iopub.status.idle": "2024-03-14T23:24:37.408887Z",
          "shell.execute_reply.started": "2024-03-14T23:24:37.392208Z",
          "shell.execute_reply": "2024-03-14T23:24:37.407508Z"
        },
        "trusted": true,
        "id": "Qwza9RJJ0cn3"
      },
      "execution_count": null,
      "outputs": []
    },
    {
      "cell_type": "code",
      "source": [
        "y_pred = dt_model.predict(x_test)"
      ],
      "metadata": {
        "execution": {
          "iopub.status.busy": "2024-03-14T23:24:38.530414Z",
          "iopub.execute_input": "2024-03-14T23:24:38.531169Z",
          "iopub.status.idle": "2024-03-14T23:24:38.537545Z",
          "shell.execute_reply.started": "2024-03-14T23:24:38.531132Z",
          "shell.execute_reply": "2024-03-14T23:24:38.536071Z"
        },
        "trusted": true,
        "id": "OZ8iVJ5h0cn3"
      },
      "execution_count": null,
      "outputs": []
    },
    {
      "cell_type": "code",
      "source": [
        "dt_acc = r2_score(y_test, y_pred)\n",
        "dt_acc"
      ],
      "metadata": {
        "execution": {
          "iopub.status.busy": "2024-03-14T23:24:41.8363Z",
          "iopub.execute_input": "2024-03-14T23:24:41.837768Z",
          "iopub.status.idle": "2024-03-14T23:24:41.847122Z",
          "shell.execute_reply.started": "2024-03-14T23:24:41.837702Z",
          "shell.execute_reply": "2024-03-14T23:24:41.845997Z"
        },
        "trusted": true,
        "id": "kUCWZcNl0cn3"
      },
      "execution_count": null,
      "outputs": []
    },
    {
      "cell_type": "markdown",
      "source": [
        "*RandomForestRegressor*"
      ],
      "metadata": {
        "id": "0VMSDkRV0cn4"
      }
    },
    {
      "cell_type": "code",
      "source": [
        "rf_model = RandomForestRegressor(n_estimators=100)\n",
        "rf_model.fit(x_train,y_train)"
      ],
      "metadata": {
        "execution": {
          "iopub.status.busy": "2024-03-14T23:24:48.650736Z",
          "iopub.execute_input": "2024-03-14T23:24:48.651907Z",
          "iopub.status.idle": "2024-03-14T23:24:49.008826Z",
          "shell.execute_reply.started": "2024-03-14T23:24:48.651824Z",
          "shell.execute_reply": "2024-03-14T23:24:49.007122Z"
        },
        "trusted": true,
        "id": "cwyu2qGL0cn4"
      },
      "execution_count": null,
      "outputs": []
    },
    {
      "cell_type": "code",
      "source": [
        "y_pred = rf_model.predict(x_test)"
      ],
      "metadata": {
        "execution": {
          "iopub.status.busy": "2024-03-14T23:24:50.198517Z",
          "iopub.execute_input": "2024-03-14T23:24:50.199013Z",
          "iopub.status.idle": "2024-03-14T23:24:50.21406Z",
          "shell.execute_reply.started": "2024-03-14T23:24:50.198981Z",
          "shell.execute_reply": "2024-03-14T23:24:50.212979Z"
        },
        "trusted": true,
        "id": "E0DZex170cn4"
      },
      "execution_count": null,
      "outputs": []
    },
    {
      "cell_type": "code",
      "source": [
        "rf_acc = r2_score(y_test, y_pred)\n",
        "rf_acc"
      ],
      "metadata": {
        "execution": {
          "iopub.status.busy": "2024-03-14T23:24:53.905774Z",
          "iopub.execute_input": "2024-03-14T23:24:53.906938Z",
          "iopub.status.idle": "2024-03-14T23:24:53.917859Z",
          "shell.execute_reply.started": "2024-03-14T23:24:53.906885Z",
          "shell.execute_reply": "2024-03-14T23:24:53.915829Z"
        },
        "trusted": true,
        "id": "IipbZdd30cn4"
      },
      "execution_count": null,
      "outputs": []
    },
    {
      "cell_type": "code",
      "source": [
        "from sklearn.svm import SVR"
      ],
      "metadata": {
        "execution": {
          "iopub.status.busy": "2024-03-14T23:24:58.100403Z",
          "iopub.execute_input": "2024-03-14T23:24:58.100811Z",
          "iopub.status.idle": "2024-03-14T23:24:58.105596Z",
          "shell.execute_reply.started": "2024-03-14T23:24:58.100782Z",
          "shell.execute_reply": "2024-03-14T23:24:58.104543Z"
        },
        "trusted": true,
        "id": "fU8zO_xu0cn5"
      },
      "execution_count": null,
      "outputs": []
    },
    {
      "cell_type": "code",
      "source": [
        "svr_model = SVR(kernel='linear')\n",
        "svr_model.fit(x_train, y_train)"
      ],
      "metadata": {
        "execution": {
          "iopub.status.busy": "2024-03-14T23:41:17.709961Z",
          "iopub.execute_input": "2024-03-14T23:41:17.710437Z",
          "iopub.status.idle": "2024-03-14T23:41:17.731474Z",
          "shell.execute_reply.started": "2024-03-14T23:41:17.710404Z",
          "shell.execute_reply": "2024-03-14T23:41:17.730005Z"
        },
        "trusted": true,
        "id": "J06rcl0N0cn5"
      },
      "execution_count": null,
      "outputs": []
    },
    {
      "cell_type": "code",
      "source": [
        "y_pred = svr_model.predict(x_test)"
      ],
      "metadata": {
        "execution": {
          "iopub.status.busy": "2024-03-14T23:41:18.381247Z",
          "iopub.execute_input": "2024-03-14T23:41:18.381713Z",
          "iopub.status.idle": "2024-03-14T23:41:18.388473Z",
          "shell.execute_reply.started": "2024-03-14T23:41:18.38167Z",
          "shell.execute_reply": "2024-03-14T23:41:18.386886Z"
        },
        "trusted": true,
        "id": "cIX7vQAY0cn5"
      },
      "execution_count": null,
      "outputs": []
    },
    {
      "cell_type": "code",
      "source": [
        "svr_acc = r2_score(y_test, y_pred)\n",
        "svr_acc"
      ],
      "metadata": {
        "execution": {
          "iopub.status.busy": "2024-03-14T23:41:19.03366Z",
          "iopub.execute_input": "2024-03-14T23:41:19.035462Z",
          "iopub.status.idle": "2024-03-14T23:41:19.045611Z",
          "shell.execute_reply.started": "2024-03-14T23:41:19.035413Z",
          "shell.execute_reply": "2024-03-14T23:41:19.044349Z"
        },
        "trusted": true,
        "id": "3U8cPqj_0cn5"
      },
      "execution_count": null,
      "outputs": []
    },
    {
      "cell_type": "code",
      "source": [
        "from sklearn.ensemble import GradientBoostingRegressor,AdaBoostRegressor\n"
      ],
      "metadata": {
        "execution": {
          "iopub.status.busy": "2024-03-14T23:26:23.75747Z",
          "iopub.execute_input": "2024-03-14T23:26:23.758122Z",
          "iopub.status.idle": "2024-03-14T23:26:23.765414Z",
          "shell.execute_reply.started": "2024-03-14T23:26:23.758078Z",
          "shell.execute_reply": "2024-03-14T23:26:23.763583Z"
        },
        "trusted": true,
        "id": "D9nHuCYT0cn5"
      },
      "execution_count": null,
      "outputs": []
    },
    {
      "cell_type": "markdown",
      "source": [
        "*GradientBoostingRegressor*"
      ],
      "metadata": {
        "id": "muNs3KEY0cn6"
      }
    },
    {
      "cell_type": "code",
      "source": [
        "gbr_model=GradientBoostingRegressor()\n",
        "gbr_model.fit(x_train, y_train)"
      ],
      "metadata": {
        "execution": {
          "iopub.status.busy": "2024-03-13T14:21:06.186492Z",
          "iopub.execute_input": "2024-03-13T14:21:06.186901Z",
          "iopub.status.idle": "2024-03-13T14:21:06.285862Z",
          "shell.execute_reply.started": "2024-03-13T14:21:06.186869Z",
          "shell.execute_reply": "2024-03-13T14:21:06.284478Z"
        },
        "trusted": true,
        "id": "iarqPhh_0cn6"
      },
      "execution_count": null,
      "outputs": []
    },
    {
      "cell_type": "code",
      "source": [
        "y_pred = gbr_model.predict(x_test)"
      ],
      "metadata": {
        "execution": {
          "iopub.status.busy": "2024-03-13T14:21:10.138611Z",
          "iopub.execute_input": "2024-03-13T14:21:10.138998Z",
          "iopub.status.idle": "2024-03-13T14:21:10.147952Z",
          "shell.execute_reply.started": "2024-03-13T14:21:10.138968Z",
          "shell.execute_reply": "2024-03-13T14:21:10.146366Z"
        },
        "trusted": true,
        "id": "iR7AIKwL0cn6"
      },
      "execution_count": null,
      "outputs": []
    },
    {
      "cell_type": "code",
      "source": [
        "gbr_acc = r2_score(y_test, y_pred)\n",
        "gbr_acc"
      ],
      "metadata": {
        "execution": {
          "iopub.status.busy": "2024-03-13T14:21:11.113372Z",
          "iopub.execute_input": "2024-03-13T14:21:11.113816Z",
          "iopub.status.idle": "2024-03-13T14:21:11.122888Z",
          "shell.execute_reply.started": "2024-03-13T14:21:11.113785Z",
          "shell.execute_reply": "2024-03-13T14:21:11.121646Z"
        },
        "trusted": true,
        "id": "s38zV3M20cn6"
      },
      "execution_count": null,
      "outputs": []
    },
    {
      "cell_type": "markdown",
      "source": [
        "*AdaBoostRegressor*"
      ],
      "metadata": {
        "id": "IzyzRSA60cn6"
      }
    },
    {
      "cell_type": "code",
      "source": [
        "abr_model = AdaBoostRegressor()\n",
        "abr_model.fit(x_train, y_train)"
      ],
      "metadata": {
        "execution": {
          "iopub.status.busy": "2024-03-13T14:21:14.964653Z",
          "iopub.execute_input": "2024-03-13T14:21:14.965033Z",
          "iopub.status.idle": "2024-03-13T14:21:15.078868Z",
          "shell.execute_reply.started": "2024-03-13T14:21:14.965004Z",
          "shell.execute_reply": "2024-03-13T14:21:15.07723Z"
        },
        "trusted": true,
        "id": "FfmRqXF30cn7"
      },
      "execution_count": null,
      "outputs": []
    },
    {
      "cell_type": "code",
      "source": [
        "y_pred = abr_model.predict(x_test)"
      ],
      "metadata": {
        "execution": {
          "iopub.status.busy": "2024-03-13T14:21:17.291853Z",
          "iopub.execute_input": "2024-03-13T14:21:17.292366Z",
          "iopub.status.idle": "2024-03-13T14:21:17.307157Z",
          "shell.execute_reply.started": "2024-03-13T14:21:17.292333Z",
          "shell.execute_reply": "2024-03-13T14:21:17.305769Z"
        },
        "trusted": true,
        "id": "mAP0IFoD0cn7"
      },
      "execution_count": null,
      "outputs": []
    },
    {
      "cell_type": "code",
      "source": [
        "abr_acc = r2_score(y_test, y_pred)\n",
        "abr_acc"
      ],
      "metadata": {
        "execution": {
          "iopub.status.busy": "2024-03-13T14:21:19.790876Z",
          "iopub.execute_input": "2024-03-13T14:21:19.791343Z",
          "iopub.status.idle": "2024-03-13T14:21:19.802307Z",
          "shell.execute_reply.started": "2024-03-13T14:21:19.791313Z",
          "shell.execute_reply": "2024-03-13T14:21:19.800865Z"
        },
        "trusted": true,
        "id": "OC2ifxDU0cn7"
      },
      "execution_count": null,
      "outputs": []
    },
    {
      "cell_type": "code",
      "source": [],
      "metadata": {
        "id": "k2VtDq770cn8"
      },
      "execution_count": null,
      "outputs": []
    }
  ]
}